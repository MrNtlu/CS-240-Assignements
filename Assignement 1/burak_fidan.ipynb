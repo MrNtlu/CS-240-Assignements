{
 "cells": [
  {
   "cell_type": "markdown",
   "metadata": {},
   "source": [
    "# Imports"
   ]
  },
  {
   "cell_type": "code",
   "execution_count": 1,
   "metadata": {},
   "outputs": [],
   "source": [
    "from datascience import *\n",
    "import numpy as np\n",
    "%matplotlib inline\n",
    "import matplotlib.pyplot as plots\n",
    "plots.style.use('fivethirtyeight')\n",
    "import warnings\n",
    "warnings.simplefilter(action=\"ignore\", category=FutureWarning)"
   ]
  },
  {
   "cell_type": "markdown",
   "metadata": {},
   "source": [
    "# 1. Data Reading"
   ]
  },
  {
   "cell_type": "code",
   "execution_count": 2,
   "metadata": {},
   "outputs": [],
   "source": [
    "background = Table().read_table('Background.csv')\n",
    "grades = Table().read_table('Grades.csv') "
   ]
  },
  {
   "cell_type": "markdown",
   "metadata": {},
   "source": [
    "# 2. Columns & Rows reporting"
   ]
  },
  {
   "cell_type": "code",
   "execution_count": 3,
   "metadata": {
    "scrolled": true
   },
   "outputs": [
    {
     "name": "stdout",
     "output_type": "stream",
     "text": [
      "Background Labels:\n",
      " ('ID', 'gender', 'race/ethnicity', 'parental level of education', 'lunch', 'test preparation course') \n",
      "Background Num of Rows: 1000 \n",
      "\n",
      "Grade Labels:\n",
      " ('ID', 'math score', 'reading score', 'writing score') \n",
      "Grade Num of Rows: 1000\n"
     ]
    }
   ],
   "source": [
    "backgroundLabels=background.labels\n",
    "backgroundNumRow=background.num_rows\n",
    "\n",
    "gradeLabels=grades.labels\n",
    "gradeNumRow=grades.num_rows\n",
    "print(\"Background Labels:\\n\",backgroundLabels,\"\\nBackground Num of Rows:\",backgroundNumRow,\"\\n\")\n",
    "print(\"Grade Labels:\\n\",gradeLabels,\"\\nGrade Num of Rows:\",gradeNumRow)"
   ]
  },
  {
   "cell_type": "markdown",
   "metadata": {},
   "source": [
    "# 3. Average grade"
   ]
  },
  {
   "cell_type": "code",
   "execution_count": 4,
   "metadata": {},
   "outputs": [
    {
     "data": {
      "text/html": [
       "<table border=\"1\" class=\"dataframe\">\n",
       "    <thead>\n",
       "        <tr>\n",
       "            <th>ID</th> <th>math score</th> <th>reading score</th> <th>writing score</th> <th>Average Score</th>\n",
       "        </tr>\n",
       "    </thead>\n",
       "    <tbody>\n",
       "        <tr>\n",
       "            <td>0   </td> <td>72        </td> <td>72           </td> <td>74           </td> <td>72.6         </td>\n",
       "        </tr>\n",
       "        <tr>\n",
       "            <td>1   </td> <td>69        </td> <td>90           </td> <td>88           </td> <td>81           </td>\n",
       "        </tr>\n",
       "        <tr>\n",
       "            <td>2   </td> <td>90        </td> <td>95           </td> <td>93           </td> <td>92.4         </td>\n",
       "        </tr>\n",
       "        <tr>\n",
       "            <td>3   </td> <td>47        </td> <td>57           </td> <td>44           </td> <td>49.1         </td>\n",
       "        </tr>\n",
       "        <tr>\n",
       "            <td>4   </td> <td>76        </td> <td>78           </td> <td>75           </td> <td>76.3         </td>\n",
       "        </tr>\n",
       "        <tr>\n",
       "            <td>5   </td> <td>71        </td> <td>83           </td> <td>78           </td> <td>76.7         </td>\n",
       "        </tr>\n",
       "        <tr>\n",
       "            <td>6   </td> <td>88        </td> <td>95           </td> <td>92           </td> <td>91.3         </td>\n",
       "        </tr>\n",
       "        <tr>\n",
       "            <td>7   </td> <td>40        </td> <td>43           </td> <td>39           </td> <td>40.6         </td>\n",
       "        </tr>\n",
       "        <tr>\n",
       "            <td>8   </td> <td>64        </td> <td>64           </td> <td>67           </td> <td>64.9         </td>\n",
       "        </tr>\n",
       "        <tr>\n",
       "            <td>9   </td> <td>38        </td> <td>60           </td> <td>50           </td> <td>48.2         </td>\n",
       "        </tr>\n",
       "    </tbody>\n",
       "</table>\n",
       "<p>... (990 rows omitted)</p>"
      ],
      "text/plain": [
       "ID   | math score | reading score | writing score | Average Score\n",
       "0    | 72         | 72            | 74            | 72.6\n",
       "1    | 69         | 90            | 88            | 81\n",
       "2    | 90         | 95            | 93            | 92.4\n",
       "3    | 47         | 57            | 44            | 49.1\n",
       "4    | 76         | 78            | 75            | 76.3\n",
       "5    | 71         | 83            | 78            | 76.7\n",
       "6    | 88         | 95            | 92            | 91.3\n",
       "7    | 40         | 43            | 39            | 40.6\n",
       "8    | 64         | 64            | 67            | 64.9\n",
       "9    | 38         | 60            | 50            | 48.2\n",
       "... (990 rows omitted)"
      ]
     },
     "execution_count": 4,
     "metadata": {},
     "output_type": "execute_result"
    }
   ],
   "source": [
    "mathScores=grades.column(\"math score\")\n",
    "readingScores=grades.column(\"reading score\")\n",
    "writingScores=grades.column(\"writing score\")\n",
    "\n",
    "avarageArray=((4*mathScores) + (3*readingScores) + (3*writingScores))/10\n",
    "grades = grades.with_column(\"Average Score\",avarageArray)\n",
    "grades"
   ]
  },
  {
   "cell_type": "markdown",
   "metadata": {},
   "source": [
    "# 4. Sorting"
   ]
  },
  {
   "cell_type": "code",
   "execution_count": 5,
   "metadata": {},
   "outputs": [
    {
     "data": {
      "text/html": [
       "<table border=\"1\" class=\"dataframe\">\n",
       "    <thead>\n",
       "        <tr>\n",
       "            <th>ID</th> <th>math score</th> <th>reading score</th> <th>writing score</th> <th>Average Score</th>\n",
       "        </tr>\n",
       "    </thead>\n",
       "    <tbody>\n",
       "        <tr>\n",
       "            <td>962 </td> <td>100       </td> <td>100          </td> <td>100          </td> <td>100          </td>\n",
       "        </tr>\n",
       "        <tr>\n",
       "            <td>916 </td> <td>100       </td> <td>100          </td> <td>100          </td> <td>100          </td>\n",
       "        </tr>\n",
       "        <tr>\n",
       "            <td>458 </td> <td>100       </td> <td>100          </td> <td>100          </td> <td>100          </td>\n",
       "        </tr>\n",
       "        <tr>\n",
       "            <td>114 </td> <td>99        </td> <td>100          </td> <td>100          </td> <td>99.6         </td>\n",
       "        </tr>\n",
       "        <tr>\n",
       "            <td>712 </td> <td>98        </td> <td>100          </td> <td>99           </td> <td>98.9         </td>\n",
       "        </tr>\n",
       "        <tr>\n",
       "            <td>625 </td> <td>100       </td> <td>97           </td> <td>99           </td> <td>98.8         </td>\n",
       "        </tr>\n",
       "        <tr>\n",
       "            <td>179 </td> <td>97        </td> <td>100          </td> <td>100          </td> <td>98.8         </td>\n",
       "        </tr>\n",
       "        <tr>\n",
       "            <td>165 </td> <td>96        </td> <td>100          </td> <td>100          </td> <td>98.4         </td>\n",
       "        </tr>\n",
       "        <tr>\n",
       "            <td>149 </td> <td>100       </td> <td>100          </td> <td>93           </td> <td>97.9         </td>\n",
       "        </tr>\n",
       "        <tr>\n",
       "            <td>685 </td> <td>94        </td> <td>99           </td> <td>100          </td> <td>97.3         </td>\n",
       "        </tr>\n",
       "    </tbody>\n",
       "</table>\n",
       "<p>... (990 rows omitted)</p>"
      ],
      "text/plain": [
       "ID   | math score | reading score | writing score | Average Score\n",
       "962  | 100        | 100           | 100           | 100\n",
       "916  | 100        | 100           | 100           | 100\n",
       "458  | 100        | 100           | 100           | 100\n",
       "114  | 99         | 100           | 100           | 99.6\n",
       "712  | 98         | 100           | 99            | 98.9\n",
       "625  | 100        | 97            | 99            | 98.8\n",
       "179  | 97         | 100           | 100           | 98.8\n",
       "165  | 96         | 100           | 100           | 98.4\n",
       "149  | 100        | 100           | 93            | 97.9\n",
       "685  | 94         | 99            | 100           | 97.3\n",
       "... (990 rows omitted)"
      ]
     },
     "execution_count": 5,
     "metadata": {},
     "output_type": "execute_result"
    }
   ],
   "source": [
    "grades.sort(\"Average Score\",descending = True)"
   ]
  },
  {
   "cell_type": "code",
   "execution_count": 6,
   "metadata": {},
   "outputs": [
    {
     "data": {
      "text/plain": [
       "('Who received more than 95 are ', 20)"
      ]
     },
     "execution_count": 6,
     "metadata": {},
     "output_type": "execute_result"
    }
   ],
   "source": [
    "\"Who received more than 95 are \",grades.where(\"Average Score\",are.above(95)).num_rows"
   ]
  },
  {
   "cell_type": "markdown",
   "metadata": {},
   "source": [
    "# 5. Scatter Plots"
   ]
  },
  {
   "cell_type": "code",
   "execution_count": 7,
   "metadata": {},
   "outputs": [
    {
     "data": {
      "image/png": "[encoded data removed]",
      "text/plain": [
       "<Figure size 432x288 with 2 Axes>"
      ]
     },
     "metadata": {},
     "output_type": "display_data"
    },
    {
     "data": {
      "image/png": "[encoded data removed]",
      "text/plain": [
       "<Figure size 432x288 with 2 Axes>"
      ]
     },
     "metadata": {},
     "output_type": "display_data"
    },
    {
     "data": {
      "image/png": "[encoded data removed]",
      "text/plain": [
       "<Figure size 432x288 with 2 Axes>"
      ]
     },
     "metadata": {},
     "output_type": "display_data"
    }
   ],
   "source": [
    "def scatter(xData,yData,xLabel,yLabel,color): #Function for creating plot\n",
    "    fig, ax = plots.subplots()\n",
    "    ax=fig.add_axes([0,0,1.5,1])\n",
    "    ax.set_xlabel(xLabel)\n",
    "    ax.set_ylabel(yLabel)\n",
    "    plots.scatter(xData,yData,color=color)\n",
    "    plots.show()\n",
    "\n",
    "scatter(readingScores,mathScores,'Reading Scores','Math Scores','r')\n",
    "scatter(readingScores,writingScores,'Reading Scores','Writing Scores','b')\n",
    "scatter(mathScores,writingScores,'Math Scores','Writing Scores','g')"
   ]
  },
  {
   "cell_type": "markdown",
   "metadata": {},
   "source": [
    "# 6. Gender Analysis"
   ]
  },
  {
   "cell_type": "code",
   "execution_count": 8,
   "metadata": {},
   "outputs": [
    {
     "name": "stdout",
     "output_type": "stream",
     "text": [
      "Female average is greater.\n"
     ]
    },
    {
     "data": {
      "text/html": [
       "<table border=\"1\" class=\"dataframe\">\n",
       "    <thead>\n",
       "        <tr>\n",
       "            <th>gender</th> <th>math avg</th> <th>reading avg</th> <th>writing avg</th> <th>average</th>\n",
       "        </tr>\n",
       "    </thead>\n",
       "    <tbody>\n",
       "        <tr>\n",
       "            <td>female</td> <td>63.6332 </td> <td>72.6081    </td> <td>72.4672    </td> <td>68.9759</td>\n",
       "        </tr>\n",
       "        <tr>\n",
       "            <td>male  </td> <td>68.7282 </td> <td>65.473     </td> <td>63.3112    </td> <td>66.1266</td>\n",
       "        </tr>\n",
       "    </tbody>\n",
       "</table>"
      ],
      "text/plain": [
       "gender | math avg | reading avg | writing avg | average\n",
       "female | 63.6332  | 72.6081     | 72.4672     | 68.9759\n",
       "male   | 68.7282  | 65.473      | 63.3112     | 66.1266"
      ]
     },
     "execution_count": 8,
     "metadata": {},
     "output_type": "execute_result"
    }
   ],
   "source": [
    "genderScoreTable=Table().with_columns(\n",
    "    'gender',background.column(\"gender\"),\n",
    "    'math',grades.column(\"math score\"),\n",
    "    'reading',grades.column(\"reading score\"),\n",
    "    'writing',grades.column(\"writing score\"),\n",
    "    'average',grades.column(\"Average Score\"),\n",
    ")\n",
    "femaleCount,maleCount=genderScoreTable.group(\"gender\").column(\"count\") #Gets female and male numbers\n",
    "\n",
    "groupedTable=genderScoreTable.group(\"gender\",sum)\n",
    "maleData=groupedTable.where(\"gender\",are.equal_to(\"male\")) #Creates male table\n",
    "femaleData=groupedTable.where(\"gender\",are.equal_to(\"female\")) #Creates female table\n",
    "\n",
    "genderAverageTable=Table().with_columns( #Creates table where columns are average of that column\n",
    "    \"gender\",groupedTable.column(\"gender\"),\n",
    "    \"math avg\",make_array((femaleData['math sum']/femaleCount)[0],(maleData['math sum']/maleCount)[0]),\n",
    "    \"reading avg\",make_array((femaleData['reading sum']/femaleCount)[0],(maleData['reading sum']/maleCount)[0]),\n",
    "    \"writing avg\",make_array((femaleData['writing sum']/femaleCount)[0],(maleData['writing sum']/maleCount)[0]),\n",
    "    \"average\",make_array((femaleData['average sum']/femaleCount)[0],(maleData['average sum']/maleCount)[0])\n",
    ")\n",
    "\n",
    "femaleAvg=genderAverageTable.where(\"gender\",are.equal_to(\"female\")).column(\"average\").mean()\n",
    "maleAvg=genderAverageTable.where(\"gender\",are.equal_to(\"male\")).column(\"average\").mean()\n",
    "\n",
    "if femaleAvg>maleAvg:\n",
    "    print(\"Female average is greater.\")\n",
    "elif femaleAvg<maleAvg:\n",
    "    print(\"Male average is greater.\")\n",
    "else:\n",
    "    print(\"Male and Female average is equal.\")\n",
    "    \n",
    "genderAverageTable"
   ]
  },
  {
   "cell_type": "markdown",
   "metadata": {},
   "source": [
    "# 7. Letter Grade"
   ]
  },
  {
   "cell_type": "code",
   "execution_count": 9,
   "metadata": {},
   "outputs": [
    {
     "data": {
      "text/html": [
       "<table border=\"1\" class=\"dataframe\">\n",
       "    <thead>\n",
       "        <tr>\n",
       "            <th>ID</th> <th>math score</th> <th>reading score</th> <th>writing score</th> <th>Average Score</th> <th>Math Letter</th> <th>Reading Letter</th> <th>Writing Letter</th> <th>Letter Grade</th>\n",
       "        </tr>\n",
       "    </thead>\n",
       "    <tbody>\n",
       "        <tr>\n",
       "            <td>0   </td> <td>72        </td> <td>72           </td> <td>74           </td> <td>72.6         </td> <td>C          </td> <td>C             </td> <td>C             </td> <td>C           </td>\n",
       "        </tr>\n",
       "        <tr>\n",
       "            <td>1   </td> <td>69        </td> <td>90           </td> <td>88           </td> <td>81           </td> <td>D          </td> <td>A             </td> <td>B             </td> <td>B           </td>\n",
       "        </tr>\n",
       "        <tr>\n",
       "            <td>2   </td> <td>90        </td> <td>95           </td> <td>93           </td> <td>92.4         </td> <td>A          </td> <td>A             </td> <td>A             </td> <td>A           </td>\n",
       "        </tr>\n",
       "        <tr>\n",
       "            <td>3   </td> <td>47        </td> <td>57           </td> <td>44           </td> <td>49.1         </td> <td>F          </td> <td>F             </td> <td>F             </td> <td>F           </td>\n",
       "        </tr>\n",
       "        <tr>\n",
       "            <td>4   </td> <td>76        </td> <td>78           </td> <td>75           </td> <td>76.3         </td> <td>C          </td> <td>C             </td> <td>C             </td> <td>C           </td>\n",
       "        </tr>\n",
       "        <tr>\n",
       "            <td>5   </td> <td>71        </td> <td>83           </td> <td>78           </td> <td>76.7         </td> <td>C          </td> <td>B             </td> <td>C             </td> <td>C           </td>\n",
       "        </tr>\n",
       "        <tr>\n",
       "            <td>6   </td> <td>88        </td> <td>95           </td> <td>92           </td> <td>91.3         </td> <td>B          </td> <td>A             </td> <td>A             </td> <td>A           </td>\n",
       "        </tr>\n",
       "        <tr>\n",
       "            <td>7   </td> <td>40        </td> <td>43           </td> <td>39           </td> <td>40.6         </td> <td>F          </td> <td>F             </td> <td>F             </td> <td>F           </td>\n",
       "        </tr>\n",
       "        <tr>\n",
       "            <td>8   </td> <td>64        </td> <td>64           </td> <td>67           </td> <td>64.9         </td> <td>D          </td> <td>D             </td> <td>D             </td> <td>D           </td>\n",
       "        </tr>\n",
       "        <tr>\n",
       "            <td>9   </td> <td>38        </td> <td>60           </td> <td>50           </td> <td>48.2         </td> <td>F          </td> <td>D             </td> <td>F             </td> <td>F           </td>\n",
       "        </tr>\n",
       "    </tbody>\n",
       "</table>\n",
       "<p>... (990 rows omitted)</p>"
      ],
      "text/plain": [
       "ID   | math score | reading score | writing score | Average Score | Math Letter | Reading Letter | Writing Letter | Letter Grade\n",
       "0    | 72         | 72            | 74            | 72.6          | C           | C              | C              | C\n",
       "1    | 69         | 90            | 88            | 81            | D           | A              | B              | B\n",
       "2    | 90         | 95            | 93            | 92.4          | A           | A              | A              | A\n",
       "3    | 47         | 57            | 44            | 49.1          | F           | F              | F              | F\n",
       "4    | 76         | 78            | 75            | 76.3          | C           | C              | C              | C\n",
       "5    | 71         | 83            | 78            | 76.7          | C           | B              | C              | C\n",
       "6    | 88         | 95            | 92            | 91.3          | B           | A              | A              | A\n",
       "7    | 40         | 43            | 39            | 40.6          | F           | F              | F              | F\n",
       "8    | 64         | 64            | 67            | 64.9          | D           | D              | D              | D\n",
       "9    | 38         | 60            | 50            | 48.2          | F           | D              | F              | F\n",
       "... (990 rows omitted)"
      ]
     },
     "execution_count": 9,
     "metadata": {},
     "output_type": "execute_result"
    }
   ],
   "source": [
    "def checkGrade(x):\n",
    "    if x>=90:\n",
    "        return \"A\"\n",
    "    elif x<90 and x>=80:\n",
    "        return \"B\"\n",
    "    elif x<80 and x>=70:\n",
    "        return \"C\"\n",
    "    elif x<70 and x>=60:\n",
    "        return \"D\"\n",
    "    else:\n",
    "        return \"F\"\n",
    "\n",
    "mathLetter=grades.apply(checkGrade,\"math score\")\n",
    "readingLetter=grades.apply(checkGrade,\"reading score\")\n",
    "writingLetter=grades.apply(checkGrade,\"writing score\")\n",
    "avgLetter=grades.apply(checkGrade,\"Average Score\")\n",
    "\n",
    "grades=grades.with_columns(\n",
    "    \"Math Letter\",mathLetter,\n",
    "    \"Reading Letter\",readingLetter,\n",
    "    \"Writing Letter\",writingLetter,\n",
    "    \"Letter Grade\",avgLetter,\n",
    ")\n",
    "grades"
   ]
  },
  {
   "cell_type": "code",
   "execution_count": 10,
   "metadata": {},
   "outputs": [
    {
     "name": "stdout",
     "output_type": "stream",
     "text": [
      "Most frequent letter grade is F with 288 frequency\n"
     ]
    },
    {
     "data": {
      "text/html": [
       "<table border=\"1\" class=\"dataframe\">\n",
       "    <thead>\n",
       "        <tr>\n",
       "            <th>Letter Grade</th> <th>count</th>\n",
       "        </tr>\n",
       "    </thead>\n",
       "    <tbody>\n",
       "        <tr>\n",
       "            <td>F           </td> <td>288  </td>\n",
       "        </tr>\n",
       "        <tr>\n",
       "            <td>D           </td> <td>262  </td>\n",
       "        </tr>\n",
       "        <tr>\n",
       "            <td>C           </td> <td>254  </td>\n",
       "        </tr>\n",
       "        <tr>\n",
       "            <td>B           </td> <td>147  </td>\n",
       "        </tr>\n",
       "        <tr>\n",
       "            <td>A           </td> <td>49   </td>\n",
       "        </tr>\n",
       "    </tbody>\n",
       "</table>"
      ],
      "text/plain": [
       "Letter Grade | count\n",
       "F            | 288\n",
       "D            | 262\n",
       "C            | 254\n",
       "B            | 147\n",
       "A            | 49"
      ]
     },
     "execution_count": 10,
     "metadata": {},
     "output_type": "execute_result"
    }
   ],
   "source": [
    "letterFrequencyTable=grades.group(\"Letter Grade\").sort(\"count\",descending = True) # Descending order frequency\n",
    "\n",
    "print(\"Most frequent letter grade is\",letterFrequencyTable[\"Letter Grade\"][0],\"with\",letterFrequencyTable[\"count\"][0],\"frequency\")\n",
    "letterFrequencyTable"
   ]
  },
  {
   "cell_type": "markdown",
   "metadata": {},
   "source": [
    "# 8. Race/Ethnic Group Analysis"
   ]
  },
  {
   "cell_type": "code",
   "execution_count": 11,
   "metadata": {},
   "outputs": [
    {
     "name": "stdout",
     "output_type": "stream",
     "text": [
      "Most failed ethnic is group C with 98 frequency\n"
     ]
    },
    {
     "data": {
      "text/html": [
       "<table border=\"1\" class=\"dataframe\">\n",
       "    <thead>\n",
       "        <tr>\n",
       "            <th>race/ethnicity</th> <th>count</th>\n",
       "        </tr>\n",
       "    </thead>\n",
       "    <tbody>\n",
       "        <tr>\n",
       "            <td>group C       </td> <td>98   </td>\n",
       "        </tr>\n",
       "        <tr>\n",
       "            <td>group D       </td> <td>66   </td>\n",
       "        </tr>\n",
       "        <tr>\n",
       "            <td>group B       </td> <td>60   </td>\n",
       "        </tr>\n",
       "        <tr>\n",
       "            <td>group A       </td> <td>40   </td>\n",
       "        </tr>\n",
       "        <tr>\n",
       "            <td>group E       </td> <td>24   </td>\n",
       "        </tr>\n",
       "    </tbody>\n",
       "</table>"
      ],
      "text/plain": [
       "race/ethnicity | count\n",
       "group C        | 98\n",
       "group D        | 66\n",
       "group B        | 60\n",
       "group A        | 40\n",
       "group E        | 24"
      ]
     },
     "execution_count": 11,
     "metadata": {},
     "output_type": "execute_result"
    }
   ],
   "source": [
    "raceLetterTable=Table().with_columns(\n",
    "    \"race/ethnicity\",background.column(\"race/ethnicity\"),\n",
    "    \"Letter Grade\",grades.column(\"Letter Grade\")\n",
    ")\n",
    "raceLetterCountTable=raceLetterTable.where(\"Letter Grade\",are.equal_to(\"F\")).group(\"race/ethnicity\").sort(\"count\",descending=True)\n",
    "print(\"Most failed ethnic is\",raceLetterCountTable[\"race/ethnicity\"][0],\"with\",raceLetterCountTable[\"count\"][0],\"frequency\")\n",
    "raceLetterCountTable"
   ]
  },
  {
   "cell_type": "markdown",
   "metadata": {},
   "source": [
    "# 9. Failed Math, More than 70 Reading"
   ]
  },
  {
   "cell_type": "code",
   "execution_count": 12,
   "metadata": {},
   "outputs": [
    {
     "data": {
      "text/html": [
       "<table border=\"1\" class=\"dataframe\">\n",
       "    <thead>\n",
       "        <tr>\n",
       "            <th>ID</th> <th>math score</th> <th>reading score</th> <th>writing score</th> <th>Average Score</th> <th>Math Letter</th> <th>Reading Letter</th> <th>Writing Letter</th> <th>Letter Grade</th>\n",
       "        </tr>\n",
       "    </thead>\n",
       "    <tbody>\n",
       "        <tr>\n",
       "            <td>48  </td> <td>57        </td> <td>74           </td> <td>76           </td> <td>67.8         </td> <td>F          </td> <td>C             </td> <td>C             </td> <td>D           </td>\n",
       "        </tr>\n",
       "        <tr>\n",
       "            <td>70  </td> <td>58        </td> <td>63           </td> <td>73           </td> <td>64           </td> <td>F          </td> <td>D             </td> <td>C             </td> <td>D           </td>\n",
       "        </tr>\n",
       "        <tr>\n",
       "            <td>105 </td> <td>58        </td> <td>67           </td> <td>72           </td> <td>64.9         </td> <td>F          </td> <td>D             </td> <td>C             </td> <td>D           </td>\n",
       "        </tr>\n",
       "        <tr>\n",
       "            <td>108 </td> <td>52        </td> <td>76           </td> <td>70           </td> <td>64.6         </td> <td>F          </td> <td>C             </td> <td>C             </td> <td>D           </td>\n",
       "        </tr>\n",
       "        <tr>\n",
       "            <td>167 </td> <td>58        </td> <td>76           </td> <td>78           </td> <td>69.4         </td> <td>F          </td> <td>C             </td> <td>C             </td> <td>D           </td>\n",
       "        </tr>\n",
       "        <tr>\n",
       "            <td>220 </td> <td>56        </td> <td>68           </td> <td>74           </td> <td>65           </td> <td>F          </td> <td>D             </td> <td>C             </td> <td>D           </td>\n",
       "        </tr>\n",
       "        <tr>\n",
       "            <td>224 </td> <td>52        </td> <td>66           </td> <td>73           </td> <td>62.5         </td> <td>F          </td> <td>D             </td> <td>C             </td> <td>D           </td>\n",
       "        </tr>\n",
       "        <tr>\n",
       "            <td>277 </td> <td>59        </td> <td>63           </td> <td>75           </td> <td>65           </td> <td>F          </td> <td>D             </td> <td>C             </td> <td>D           </td>\n",
       "        </tr>\n",
       "        <tr>\n",
       "            <td>314 </td> <td>59        </td> <td>64           </td> <td>75           </td> <td>65.3         </td> <td>F          </td> <td>D             </td> <td>C             </td> <td>D           </td>\n",
       "        </tr>\n",
       "        <tr>\n",
       "            <td>354 </td> <td>59        </td> <td>71           </td> <td>70           </td> <td>65.9         </td> <td>F          </td> <td>C             </td> <td>C             </td> <td>D           </td>\n",
       "        </tr>\n",
       "    </tbody>\n",
       "</table>\n",
       "<p>... (24 rows omitted)</p>"
      ],
      "text/plain": [
       "ID   | math score | reading score | writing score | Average Score | Math Letter | Reading Letter | Writing Letter | Letter Grade\n",
       "48   | 57         | 74            | 76            | 67.8          | F           | C              | C              | D\n",
       "70   | 58         | 63            | 73            | 64            | F           | D              | C              | D\n",
       "105  | 58         | 67            | 72            | 64.9          | F           | D              | C              | D\n",
       "108  | 52         | 76            | 70            | 64.6          | F           | C              | C              | D\n",
       "167  | 58         | 76            | 78            | 69.4          | F           | C              | C              | D\n",
       "220  | 56         | 68            | 74            | 65            | F           | D              | C              | D\n",
       "224  | 52         | 66            | 73            | 62.5          | F           | D              | C              | D\n",
       "277  | 59         | 63            | 75            | 65            | F           | D              | C              | D\n",
       "314  | 59         | 64            | 75            | 65.3          | F           | D              | C              | D\n",
       "354  | 59         | 71            | 70            | 65.9          | F           | C              | C              | D\n",
       "... (24 rows omitted)"
      ]
     },
     "execution_count": 12,
     "metadata": {},
     "output_type": "execute_result"
    }
   ],
   "source": [
    "grades.where(\"math score\",are.below(60)).where(\"writing score\",are.above_or_equal_to(70)) # Where chain below 60 on math but above 70 on writing"
   ]
  },
  {
   "cell_type": "markdown",
   "metadata": {},
   "source": [
    "# 10. Course Preparation Distributions"
   ]
  },
  {
   "cell_type": "code",
   "execution_count": null,
   "metadata": {},
   "outputs": [],
   "source": []
  },
  {
   "cell_type": "markdown",
   "metadata": {},
   "source": [
    "# 11. Education Level"
   ]
  },
  {
   "cell_type": "code",
   "execution_count": null,
   "metadata": {},
   "outputs": [],
   "source": []
  },
  {
   "cell_type": "markdown",
   "metadata": {},
   "source": [
    "# 12. Gender/Ethnic Grid"
   ]
  },
  {
   "cell_type": "code",
   "execution_count": null,
   "metadata": {},
   "outputs": [],
   "source": []
  }
 ],
 "metadata": {
  "kernelspec": {
   "display_name": "Python 3",
   "language": "python",
   "name": "python3"
  },
  "language_info": {
   "codemirror_mode": {
    "name": "ipython",
    "version": 3
   },
   "file_extension": ".py",
   "mimetype": "text/x-python",
   "name": "python",
   "nbconvert_exporter": "python",
   "pygments_lexer": "ipython3",
   "version": "3.7.3"
  }
 },
 "nbformat": 4,
 "nbformat_minor": 4
}
